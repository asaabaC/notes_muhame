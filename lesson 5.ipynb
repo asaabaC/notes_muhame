{
 "cells": [
  {
   "cell_type": "code",
   "execution_count": 1,
   "metadata": {},
   "outputs": [],
   "source": [
    "# probability mass function (PFM) is a random variable x , is a function that specifies the probability of obtaining a number x()\n",
    "# a representation of values each number in data set.\n",
    "\n",
    "# random variables are functions that transform words to numbers.\n",
    "# pfm represnts the number of times a number appears.\n",
    "\n",
    "# histogram"
   ]
  }
 ],
 "metadata": {
  "kernelspec": {
   "display_name": "Python 3",
   "language": "python",
   "name": "python3"
  },
  "language_info": {
   "codemirror_mode": {
    "name": "ipython",
    "version": 3
   },
   "file_extension": ".py",
   "mimetype": "text/x-python",
   "name": "python",
   "nbconvert_exporter": "python",
   "pygments_lexer": "ipython3",
   "version": "3.11.4"
  },
  "orig_nbformat": 4
 },
 "nbformat": 4,
 "nbformat_minor": 2
}
